{
 "cells": [
  {
   "cell_type": "markdown",
   "metadata": {},
   "source": [
    "# Verne Examples\n",
    "\n",
    "Updated: 24/10/2024\n",
    "\n",
    "**Contents:**\n",
    "- <a href=\"#Verne-for-Heavy-Dark-Matter\">Verne for Heavy Dark Matter</a>\n",
    "- <a href=\"#Verne-for-Light-Dark-Matter\">Verne for Light Dark Matter</a>"
   ]
  },
  {
   "cell_type": "markdown",
   "metadata": {},
   "source": [
    "### Verne for Heavy Dark Matter"
   ]
  },
  {
   "cell_type": "markdown",
   "metadata": {},
   "source": [
    "First, we'll load up some code that we need:"
   ]
  },
  {
   "cell_type": "code",
   "execution_count": 7,
   "metadata": {},
   "outputs": [],
   "source": [
    "import numpy as np\n",
    "import matplotlib.pyplot as plt\n",
    "from scipy.interpolate import interp1d\n",
    "\n",
    "import verne\n",
    "import MaxwellBoltzmann as MB\n",
    "\n",
    "from tqdm import tqdm"
   ]
  },
  {
   "cell_type": "code",
   "execution_count": 2,
   "metadata": {},
   "outputs": [],
   "source": [
    "plt.rcParams.update({'font.size': 20})"
   ]
  },
  {
   "cell_type": "code",
   "execution_count": 3,
   "metadata": {},
   "outputs": [],
   "source": [
    "#Some benchmark parameters\n",
    "m_x   = 1\n",
    "sig0 = 1e-30\n",
    "depth = 100\n",
    "\n",
    "gamma = 0.3"
   ]
  },
  {
   "cell_type": "code",
   "execution_count": 4,
   "metadata": {},
   "outputs": [
    {
     "name": "stdout",
     "output_type": "stream",
     "text": [
      "> VERNE: Calculating Form Factor corrections for m_x =  1  GeV, with SI interactions...\n"
     ]
    }
   ],
   "source": [
    "verne.loadFFcorrections(m_x)"
   ]
  },
  {
   "cell_type": "code",
   "execution_count": 5,
   "metadata": {},
   "outputs": [
    {
     "data": {
      "image/png": "[encoded data removed]",
      "text/plain": [
       "<Figure size 432x288 with 1 Axes>"
      ]
     },
     "metadata": {
      "needs_background": "light"
     },
     "output_type": "display_data"
    }
   ],
   "source": [
    "v_list = np.linspace(0, 850, 1000)\n",
    "plt.figure()\n",
    "\n",
    "plt.plot(v_list, MB.calcf_SHM(v_list))\n",
    "\n",
    "plt.show()"
   ]
  },
  {
   "cell_type": "markdown",
   "metadata": {},
   "source": [
    "Now let's try to calculate the velocity distribution $f(v)$ at one specific value of $v$, let's call it $v_1$:"
   ]
  },
  {
   "cell_type": "code",
   "execution_count": 6,
   "metadata": {},
   "outputs": [],
   "source": [
    "v1 = 200 #km/s\n",
    "#f_final = verne.CalcF(v1, gamma=0.0, depth=100, sigma_p=1e-26, m_x=1.0, target=\"SUF\", vmax_interp=None, interaction=\"SI\")"
   ]
  },
  {
   "cell_type": "markdown",
   "metadata": {},
   "source": [
    "Okay, so the code won't let us use `None` :( So it turns out that `vmax_interp` needs to be some kind of function, which returns the maximum possible final speed at the detector $v_{f,\\mathrm{max}}$, as a function of $\\theta$, the incoming direction of the DM particle. What happens if we specify something very general?"
   ]
  },
  {
   "cell_type": "code",
   "execution_count": 7,
   "metadata": {},
   "outputs": [],
   "source": [
    "def vmax_interp1(theta):\n",
    "    return 800 #km/s"
   ]
  },
  {
   "cell_type": "code",
   "execution_count": 8,
   "metadata": {},
   "outputs": [
    {
     "name": "stdout",
     "output_type": "stream",
     "text": [
      "0.00024950740587414126\n"
     ]
    }
   ],
   "source": [
    "f_final = verne.CalcF(v1, gamma=gamma, depth=depth, sigma_p=sig0, m_x=m_x, target=\"full\", vmax_interp=vmax_interp1, interaction=\"SI\")\n",
    "print(f_final)"
   ]
  },
  {
   "cell_type": "markdown",
   "metadata": {},
   "source": [
    "Hmmm...that seems to work - let's try doing it for a range of velocities:"
   ]
  },
  {
   "cell_type": "code",
   "execution_count": 9,
   "metadata": {},
   "outputs": [
    {
     "name": "stderr",
     "output_type": "stream",
     "text": [
      "/Users/bradkav/opt/miniconda3/envs/igwn-py38/lib/python3.8/site-packages/scipy/integrate/odepack.py:247: ODEintWarning: Excess work done on this call (perhaps wrong Dfun type). Run with full_output = 1 to get quantitative information.\n",
      "  warnings.warn(warning_msg, ODEintWarning)\n"
     ]
    },
    {
     "name": "stdout",
     "output_type": "stream",
     "text": [
      "CPU times: user 2min, sys: 1.81 s, total: 2min 2s\n",
      "Wall time: 2min 3s\n"
     ]
    }
   ],
   "source": [
    "#v_list = np.linspace(0, 800, 100)\n",
    "v_list = np.linspace(1e-3, 800, 50)\n",
    "%time f_final_list = [verne.CalcF(v, gamma=gamma, depth=depth, sigma_p=sig0, m_x=m_x, target=\"full\", vmax_interp=vmax_interp1, interaction=\"SI\") for v in v_list]"
   ]
  },
  {
   "cell_type": "code",
   "execution_count": 10,
   "metadata": {},
   "outputs": [
    {
     "name": "stdout",
     "output_type": "stream",
     "text": [
      "20.448701121751245\n"
     ]
    }
   ],
   "source": [
    "print(np.trapz(f_final_list, v_list))"
   ]
  },
  {
   "cell_type": "code",
   "execution_count": 11,
   "metadata": {},
   "outputs": [
    {
     "data": {
      "image/png": "[encoded data removed]",
      "text/plain": [
       "<Figure size 432x288 with 1 Axes>"
      ]
     },
     "metadata": {
      "needs_background": "light"
     },
     "output_type": "display_data"
    }
   ],
   "source": [
    "plt.figure()\n",
    "\n",
    "plt.plot(v_list, MB.calcf_SHM(v_list), 'k--', label='SHM (unperturbed)')\n",
    "plt.plot(v_list, f_final_list)\n",
    "\n",
    "plt.xlabel('$v$ [km/s]')\n",
    "plt.ylabel('$f(v)$ [(km/s)$^{-1}$]')\n",
    "\n",
    "plt.legend()\n",
    "plt.ylim(0, 1e-2)\n",
    "plt.show()"
   ]
  },
  {
   "cell_type": "markdown",
   "metadata": {},
   "source": [
    "This works, but it's pretty slow. Let's calculate the maximum velocity as a function of the incoming angle $\\theta$. We want to do this in advance (rather than letting `verne.CalcF` deal with it internally) because we need this function repeatedly (every time we call `verne.CalcF` for a different `v`, we don't want to have to recalculate!).\n",
    "\n",
    "The maximum velocity at the detector corresponds to the final velocity of the DM particle which has the largest *initial* velocity. The maximum initial velocity depends on the incoming direction of the DM particle. Let's write $\\mathbf{v}_g$ as the velocity of a DM particle in the galactic rest frame, $\\mathbf{v}$ as the velocity of that same particle in the Earth's frame and $\\mathbf{v}_e$ the velocity of the Earth with respect to the Galaxy. Then:\n",
    "\n",
    "$$\n",
    "\\begin{align}\n",
    "\\mathbf{v}_g &= \\mathbf{v} - \\mathbf{v}_e\\\\\n",
    "\\Rightarrow v_g^2&= v^2 + v_e^2 - 2 \\mathbf{v}\\cdot \\mathbf{v}_e\n",
    "\\end{align}\n",
    "$$\n",
    "\n",
    "To find the maximum speed in the Earth frame, we'll set $v_g = v_\\mathrm{esc}$, the escape velocity in the Galactic rest frame:\n",
    "$$\n",
    "\\begin{align}\n",
    "v^2 - 2 \\mathbf{v}\\cdot \\mathbf{v}_e + v_e^2 - v_\\mathrm{esc}^2  = 0\n",
    "\\end{align}\n",
    "$$\n",
    "\n",
    "Based on the definitions of the angles $\\gamma$ and $\\theta$, you can show that the angle $\\alpha$ between $\\mathbf{v}$ and $\\mathbf{v}_e$ is:\n",
    "$$\\cos\\alpha = \\sin\\gamma\\,\\sin(\\pi -\\theta) + \\cos\\gamma\\,\\cos(\\pi - \\theta)$$\n",
    "*(This is actually a nice exercise, to check that you understand what these angles mean).*\n",
    "\n",
    "We finally have:\n",
    "$$\n",
    "\\begin{align}\n",
    "v^2 - 2 v\\,v_e\\cos\\alpha + (v_e^2 - v_\\mathrm{esc}^2)  = 0\n",
    "\\end{align}\n",
    "$$\n",
    "which can be solved to obtain $v$, the maximum initial velocity as a function of $\\gamma$ and $\\theta$. "
   ]
  },
  {
   "cell_type": "code",
   "execution_count": 12,
   "metadata": {},
   "outputs": [
    {
     "name": "stderr",
     "output_type": "stream",
     "text": [
      "/Users/bradkav/opt/miniconda3/envs/igwn-py38/lib/python3.8/site-packages/scipy/integrate/odepack.py:247: ODEintWarning: Excess work done on this call (perhaps wrong Dfun type). Run with full_output = 1 to get quantitative information.\n",
      "  warnings.warn(warning_msg, ODEintWarning)\n"
     ]
    }
   ],
   "source": [
    "#Let's calculate over a range of theta values\n",
    "\n",
    "Nvals = 501\n",
    "thetavals = np.linspace(0, np.pi, Nvals)\n",
    "\n",
    "#Loading values from MaxwellBoltzmann module:\n",
    "v_e = np.sqrt(2.0)*MB.sigmav\n",
    "vesc = MB.vesc\n",
    "\n",
    "#Solving using quadratic formula:\n",
    "a = 1.0\n",
    "b = 2*v_e*(-np.sin(gamma)*np.sin(np.pi-thetavals) + np.cos(gamma)*np.cos(np.pi-thetavals))\n",
    "c = v_e**2 - vesc**2\n",
    "v_initial_max = (-b + np.sqrt(b**2 - 4*a*c))/(2.0*a)\n",
    "\n",
    "#Now we loop over values of theta, calculating the final velocity at the detector\n",
    "        #Calculate the maximum final speed as a function of incoming angle theta\n",
    "v_final_max = 0.0*v_initial_max\n",
    "for i in range(Nvals):\n",
    "    v_final_max[i] = verne.calcVfinal_full(v_initial_max[i], thetavals[i],  depth=depth, sigma_p=sig0, m_x=m_x, interaction=\"SI\", target=\"full\")    \n",
    "\n",
    "#Now generate an interpolation function for v_final(theta):\n",
    "vmax_interp2 = interp1d(thetavals, 1.05*v_final_max, kind='linear', bounds_error=False, fill_value=0)"
   ]
  },
  {
   "cell_type": "code",
   "execution_count": 13,
   "metadata": {},
   "outputs": [
    {
     "data": {
      "image/png": "[encoded data removed]",
      "text/plain": [
       "<Figure size 432x288 with 1 Axes>"
      ]
     },
     "metadata": {
      "needs_background": "light"
     },
     "output_type": "display_data"
    }
   ],
   "source": [
    "plt.figure()\n",
    "\n",
    "plt.plot(thetavals, v_final_max)\n",
    "\n",
    "plt.show()"
   ]
  },
  {
   "cell_type": "code",
   "execution_count": 14,
   "metadata": {},
   "outputs": [
    {
     "name": "stdout",
     "output_type": "stream",
     "text": [
      "382.08797140712375\n"
     ]
    }
   ],
   "source": [
    "#This thing works just like any other function:\n",
    "print(vmax_interp2(0.75*np.pi))"
   ]
  },
  {
   "cell_type": "markdown",
   "metadata": {},
   "source": [
    "**WARNING:** Note here that you should make sure that the parameters you use to calculate this interpolation function (depth, mass, cross section etc) agree with the parameters you'll use to calculate the velocity distribution. Otherwise things won't be consistent. This means you have to recalculate this interpolation function whenever you change e.g. $\\gamma$.\n",
    "\n",
    "It's possible that there's a more refined way of doing all this, but for the moment, this saves the code having to store these things internally..."
   ]
  },
  {
   "cell_type": "markdown",
   "metadata": {},
   "source": [
    "Now let's try calculating things again, using this more accurate function for v_max(theta):"
   ]
  },
  {
   "cell_type": "code",
   "execution_count": 15,
   "metadata": {},
   "outputs": [],
   "source": [
    "v_list_i = np.linspace(0, 800, 50)\n",
    "\n",
    "Nv1 = 20\n",
    "Nv2 = 30\n",
    "Nv3 = 48\n",
    "\n",
    "v_th = 20.0\n",
    "vmax = np.max(v_final_max)\n",
    "v_list = np.logspace(np.log10(v_th), np.log10(0.25*vmax), Nv1)    #20                             \n",
    "v_list = np.append(v_list, np.linspace(0.15*vmax, 0.6*vmax*1.05, Nv2)) #40 \n",
    "v_list = np.append(v_list, np.linspace(0.61*vmax, 0.999*vmax*1.05, Nv3))\n",
    "v_list = np.append(v_list, 0.99*v_th)\n",
    "v_list = np.sort(v_list)"
   ]
  },
  {
   "cell_type": "code",
   "execution_count": 16,
   "metadata": {},
   "outputs": [
    {
     "name": "stderr",
     "output_type": "stream",
     "text": [
      "100%|██████████| 99/99 [00:50<00:00,  1.97it/s]\n"
     ]
    }
   ],
   "source": [
    "f_final_SI_list = 0.0*v_list\n",
    "#print(v_list)\n",
    "for i in tqdm(range(len(v_list))):\n",
    "    v = v_list[i]\n",
    "    f_final_SI_list[i] = verne.CalcF(v, gamma=gamma, depth=depth, sigma_p=sig0, m_x=m_x, target=\"full\", vmax_interp=vmax_interp2, interaction=\"SI\")\n",
    "    #print(f_final_SI_list[i])\n",
    "#%time f_final_SI_list = [verne.CalcF(v, gamma=gamma, depth=1400, sigma_p=300e-36, m_x=0.5, target=\"full\", vmax_interp=vmax_interp2, interaction=\"SI\") for v in v_list]"
   ]
  },
  {
   "cell_type": "code",
   "execution_count": 17,
   "metadata": {},
   "outputs": [
    {
     "data": {
      "image/png": "[encoded data removed]",
      "text/plain": [
       "<Figure size 432x288 with 1 Axes>"
      ]
     },
     "metadata": {
      "needs_background": "light"
     },
     "output_type": "display_data"
    }
   ],
   "source": [
    "plt.figure()\n",
    "\n",
    "plt.plot(v_list_i, MB.calcf_SHM(v_list_i), 'k--', label='SHM (unperturbed)')\n",
    "#plt.plot(v_list, f_final_list, 'b-')\n",
    "plt.plot(v_list, f_final_SI_list, 'r-')\n",
    "\n",
    "plt.xlabel(r\"$v_f$ [km/s]\")\n",
    "plt.ylabel(r\"$f(v_f)$ [km/s]\")\n",
    "\n",
    "plt.title(\"Spin-independent DM\")\n",
    "\n",
    "\n",
    "plt.ylim(1e-5, 1e-2)\n",
    "plt.show()"
   ]
  },
  {
   "cell_type": "markdown",
   "metadata": {},
   "source": [
    "Great! That's now faster, because the code isn't wasting time calculating for speeds which are unphysically large!"
   ]
  },
  {
   "cell_type": "markdown",
   "metadata": {},
   "source": [
    "### Verne for Light Dark Matter"
   ]
  },
  {
   "cell_type": "code",
   "execution_count": 9,
   "metadata": {},
   "outputs": [],
   "source": [
    "import matplotlib.pyplot as plt\n",
    "import numpy as np\n",
    "from tqdm import tqdm\n",
    "import MaxwellBoltzmann as MB\n",
    "import verne_light"
   ]
  },
  {
   "cell_type": "code",
   "execution_count": 10,
   "metadata": {},
   "outputs": [],
   "source": [
    "plt.rcParams.update({'font.size': 20})"
   ]
  },
  {
   "cell_type": "markdown",
   "metadata": {},
   "source": [
    "`verne_light` assumes that the energy loss of DM particles as they scatter is negligible (because of the large kinematic mismatch between keV DM particles and nuclei in the Earth). In this case, then, we don't need to keep track of the evolution of the DM velocity. This means that it's useful to pre-tabulate the density of nuclei along different trajectories. \n",
    "\n",
    "This is mandatory, and should be done specifying the depth of the detector (in metres) and the target (\"full\", \"atmos\" or \"earth\"):"
   ]
  },
  {
   "cell_type": "code",
   "execution_count": 11,
   "metadata": {},
   "outputs": [
    {
     "name": "stderr",
     "output_type": "stream",
     "text": [
      "100%|██████████| 10001/10001 [00:09<00:00, 1104.35it/s]\n"
     ]
    }
   ],
   "source": [
    "verne_light.Tabulate_Column_Density(depth=1400.0, target=\"full\")"
   ]
  },
  {
   "cell_type": "markdown",
   "metadata": {},
   "source": [
    "Now for light DM interaction via a Dark Photon mediator, we often want to convert between electron and proton scattering cross sections:"
   ]
  },
  {
   "cell_type": "code",
   "execution_count": 12,
   "metadata": {},
   "outputs": [],
   "source": [
    "m_p = 0.9315 #Proton mass\n",
    "m_e = 511e3/1e9 #Electron mass\n",
    "\n",
    "def m_reduced(m1, m2):\n",
    "    return m1*m2/(m1 + m2)\n",
    "\n",
    "def sigma_e_to_sigma_p(sigma_e, m_x):\n",
    "    mu_eX = m_reduced(m_e, m_x)\n",
    "    mu_pX = m_reduced(m_p, m_x)\n",
    "    return (mu_pX/mu_eX)**2*sigma_e\n",
    "    \n",
    "def sigma_p_to_sigma_e(sigma_p, m_x):\n",
    "    mu_eX = m_reduced(m_e, m_x)\n",
    "    mu_pX = m_reduced(m_p, m_x)\n",
    "    return (mu_eX/mu_pX)**2*sigma_p"
   ]
  },
  {
   "cell_type": "markdown",
   "metadata": {},
   "source": [
    "We can now calculate the velocity distribution for a given set of parameters:"
   ]
  },
  {
   "cell_type": "code",
   "execution_count": 13,
   "metadata": {},
   "outputs": [
    {
     "name": "stderr",
     "output_type": "stream",
     "text": [
      "100%|██████████| 101/101 [00:07<00:00, 12.75it/s]\n"
     ]
    }
   ],
   "source": [
    "m_x   = 1e-3 #GeV\n",
    "sig_e = 1e-32 #cm^2\n",
    "med = \"ulm\"\n",
    "gamma = 0.3\n",
    "\n",
    "vlist = np.linspace(0, MB.ve + MB.vesc, 101)\n",
    "\n",
    "sig_p = sigma_e_to_sigma_p(sig_e, m_x)\n",
    "\n",
    "f_trans = np.zeros(len(vlist))\n",
    "f_refl = np.zeros(len(vlist))\n",
    "\n",
    "for i, v in enumerate(tqdm(vlist)):\n",
    "    #Calculate transmitted and reflected component\n",
    "    f_trans[i] = verne_light.CalcF_transmitted(v, gamma, sigma_p=sig_p, m_x=m_x, target=\"full\", interaction=med)\n",
    "    f_refl[i] = verne_light.CalcF_reflected(v, gamma, sigma_p=sig_p, m_x=m_x, target=\"full\", interaction=med)\n",
    "    \n",
    "f_full = f_trans + f_refl"
   ]
  },
  {
   "cell_type": "code",
   "execution_count": 15,
   "metadata": {},
   "outputs": [
    {
     "data": {
      "image/png": "[encoded data removed]",
      "text/plain": [
       "<Figure size 432x288 with 1 Axes>"
      ]
     },
     "metadata": {
      "needs_background": "light"
     },
     "output_type": "display_data"
    }
   ],
   "source": [
    "plt.figure()\n",
    "\n",
    "plt.plot(vlist, MB.calcf_SHM(vlist), color='k', linestyle='--')\n",
    "plt.plot(vlist, f_full)\n",
    "\n",
    "plt.xlabel(r\"$v$ [km/s]\")\n",
    "plt.ylabel(r\"$f(v)$ [km/s]\")\n",
    "plt.show()"
   ]
  },
  {
   "cell_type": "markdown",
   "metadata": {},
   "source": [
    "The code accepts the following `interaction` types:\n",
    "- `SI`: Spin-independent (neglecting form factors)\n",
    "- `hm`: Heavy dark photon mediator (including charge screening)\n",
    "- `ulm`: Ultra-light dark photon mediator (including charge screening)"
   ]
  },
  {
   "cell_type": "code",
   "execution_count": null,
   "metadata": {},
   "outputs": [],
   "source": []
  }
 ],
 "metadata": {
  "kernelspec": {
   "display_name": "igwn-py38",
   "language": "python",
   "name": "igwn-py38"
  },
  "language_info": {
   "codemirror_mode": {
    "name": "ipython",
    "version": 3
   },
   "file_extension": ".py",
   "mimetype": "text/x-python",
   "name": "python",
   "nbconvert_exporter": "python",
   "pygments_lexer": "ipython3",
   "version": "3.8.6"
  }
 },
 "nbformat": 4,
 "nbformat_minor": 4
}
