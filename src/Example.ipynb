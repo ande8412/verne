{
 "cells": [
  {
   "cell_type": "markdown",
   "metadata": {},
   "source": [
    "### Calculating velocity distributions in verne"
   ]
  },
  {
   "cell_type": "markdown",
   "metadata": {},
   "source": [
    "First, we'll load up some code that we need:"
   ]
  },
  {
   "cell_type": "code",
   "execution_count": 1,
   "metadata": {},
   "outputs": [],
   "source": [
    "import numpy as np\n",
    "import matplotlib.pyplot as plt\n",
    "from scipy.interpolate import interp1d\n",
    "\n",
    "\n",
    "import verne\n",
    "import MaxwellBoltzmann as MB"
   ]
  },
  {
   "cell_type": "code",
   "execution_count": 2,
   "metadata": {},
   "outputs": [
    {
     "name": "stdout",
     "output_type": "stream",
     "text": [
      ">VERNE: Loading isotope data and density profiles...\n",
      ">VERNE: Calculating Form Factor corrections for m_x =  1.0  GeV...\n"
     ]
    }
   ],
   "source": [
    "verne.loadFFcorrections(1.0)"
   ]
  },
  {
   "cell_type": "markdown",
   "metadata": {},
   "source": [
    "Now let's try to calculate the velocity distribution $f(v)$ at one specific value of $v$, let's call it $v_1$:"
   ]
  },
  {
   "cell_type": "code",
   "execution_count": 3,
   "metadata": {},
   "outputs": [
    {
     "ename": "TypeError",
     "evalue": "'NoneType' object is not callable",
     "output_type": "error",
     "traceback": [
      "\u001b[0;31m---------------------------------------------------------------------------\u001b[0m",
      "\u001b[0;31mTypeError\u001b[0m                                 Traceback (most recent call last)",
      "\u001b[0;32m<ipython-input-3-86723255a45b>\u001b[0m in \u001b[0;36m<module>\u001b[0;34m\u001b[0m\n\u001b[1;32m      1\u001b[0m \u001b[0mv1\u001b[0m \u001b[0;34m=\u001b[0m \u001b[0;36m200\u001b[0m \u001b[0;31m#km/s\u001b[0m\u001b[0;34m\u001b[0m\u001b[0;34m\u001b[0m\u001b[0m\n\u001b[0;32m----> 2\u001b[0;31m \u001b[0mf_final\u001b[0m \u001b[0;34m=\u001b[0m \u001b[0mverne\u001b[0m\u001b[0;34m.\u001b[0m\u001b[0mCalcF\u001b[0m\u001b[0;34m(\u001b[0m\u001b[0mv1\u001b[0m\u001b[0;34m,\u001b[0m \u001b[0mgamma\u001b[0m\u001b[0;34m=\u001b[0m\u001b[0;36m0.0\u001b[0m\u001b[0;34m,\u001b[0m \u001b[0mdepth\u001b[0m\u001b[0;34m=\u001b[0m\u001b[0;36m100\u001b[0m\u001b[0;34m,\u001b[0m \u001b[0msigma_p\u001b[0m\u001b[0;34m=\u001b[0m\u001b[0;36m1e-26\u001b[0m\u001b[0;34m,\u001b[0m \u001b[0mm_x\u001b[0m\u001b[0;34m=\u001b[0m\u001b[0;36m1.0\u001b[0m\u001b[0;34m,\u001b[0m \u001b[0mtarget\u001b[0m\u001b[0;34m=\u001b[0m\u001b[0;34m\"SUF\"\u001b[0m\u001b[0;34m,\u001b[0m \u001b[0mvmax_interp\u001b[0m\u001b[0;34m=\u001b[0m\u001b[0;32mNone\u001b[0m\u001b[0;34m,\u001b[0m \u001b[0minteraction\u001b[0m\u001b[0;34m=\u001b[0m\u001b[0;34m\"SI\"\u001b[0m\u001b[0;34m)\u001b[0m\u001b[0;34m\u001b[0m\u001b[0;34m\u001b[0m\u001b[0m\n\u001b[0m",
      "\u001b[0;32m~/Code/verne/src/verne.py\u001b[0m in \u001b[0;36mCalcF\u001b[0;34m(vf, gamma, depth, sigma_p, m_x, target, vmax_interp, interaction)\u001b[0m\n\u001b[1;32m    282\u001b[0m         \u001b[0;31m#If maximum vf you can get for this value of theta is greater\u001b[0m\u001b[0;34m\u001b[0m\u001b[0;34m\u001b[0m\u001b[0;34m\u001b[0m\u001b[0m\n\u001b[1;32m    283\u001b[0m         \u001b[0;31m#than the speed we're interested in, set to zero\u001b[0m\u001b[0;34m\u001b[0m\u001b[0;34m\u001b[0m\u001b[0;34m\u001b[0m\u001b[0m\n\u001b[0;32m--> 284\u001b[0;31m         \u001b[0;32mif\u001b[0m \u001b[0;34m(\u001b[0m\u001b[0mvmax_interp\u001b[0m\u001b[0;34m(\u001b[0m\u001b[0mtlist\u001b[0m\u001b[0;34m[\u001b[0m\u001b[0mi\u001b[0m\u001b[0;34m]\u001b[0m\u001b[0;34m)\u001b[0m \u001b[0;34m<\u001b[0m \u001b[0mvf\u001b[0m\u001b[0;34m)\u001b[0m\u001b[0;34m:\u001b[0m\u001b[0;34m\u001b[0m\u001b[0;34m\u001b[0m\u001b[0m\n\u001b[0m\u001b[1;32m    285\u001b[0m             \u001b[0mfint\u001b[0m\u001b[0;34m[\u001b[0m\u001b[0mi\u001b[0m\u001b[0;34m]\u001b[0m \u001b[0;34m=\u001b[0m \u001b[0;36m0.0\u001b[0m\u001b[0;34m\u001b[0m\u001b[0;34m\u001b[0m\u001b[0m\n\u001b[1;32m    286\u001b[0m         \u001b[0;32melse\u001b[0m\u001b[0;34m:\u001b[0m\u001b[0;34m\u001b[0m\u001b[0;34m\u001b[0m\u001b[0m\n",
      "\u001b[0;31mTypeError\u001b[0m: 'NoneType' object is not callable"
     ]
    }
   ],
   "source": [
    "v1 = 200 #km/s\n",
    "f_final = verne.CalcF(v1, gamma=0.0, depth=100, sigma_p=1e-26, m_x=1.0, target=\"SUF\", vmax_interp=None, interaction=\"SI\")"
   ]
  },
  {
   "cell_type": "markdown",
   "metadata": {},
   "source": [
    "Okay, so the code won't let us use `None` :( So it turns out that `vmax_interp` needs to be some kind of function, which returns the maximum possible final speed at the detector $v_{f,\\mathrm{max}}$, as a function of $\\theta$, the incoming direction of the DM particle. What happens if we specify something very general?"
   ]
  },
  {
   "cell_type": "code",
   "execution_count": 4,
   "metadata": {},
   "outputs": [],
   "source": [
    "def vmax_interp1(theta):\n",
    "    return 800 #km/s"
   ]
  },
  {
   "cell_type": "code",
   "execution_count": 5,
   "metadata": {},
   "outputs": [
    {
     "name": "stderr",
     "output_type": "stream",
     "text": [
      "/usr/local/lib/python3.9/site-packages/scipy/integrate/odepack.py:247: ODEintWarning: Excess work done on this call (perhaps wrong Dfun type). Run with full_output = 1 to get quantitative information.\n",
      "  warnings.warn(warning_msg, ODEintWarning)\n"
     ]
    }
   ],
   "source": [
    "f_final = verne.CalcF(v1, gamma=0.0, depth=100, sigma_p=1e-30, m_x=1.0, target=\"SUF\", vmax_interp=vmax_interp1, interaction=\"SI\")"
   ]
  },
  {
   "cell_type": "markdown",
   "metadata": {},
   "source": [
    "Hmmm...that seems to work - let's try doing it for a range of velocities:"
   ]
  },
  {
   "cell_type": "code",
   "execution_count": 6,
   "metadata": {},
   "outputs": [
    {
     "name": "stdout",
     "output_type": "stream",
     "text": [
      "CPU times: user 1min 10s, sys: 899 ms, total: 1min 11s\n",
      "Wall time: 1min 11s\n"
     ]
    }
   ],
   "source": [
    "v_list = np.linspace(0, 800, 20)\n",
    "%time f_final_list = [verne.CalcF(v, gamma=0.0, depth=100, sigma_p=1e-30, m_x=1.0, target=\"SUF\", vmax_interp=vmax_interp1, interaction=\"SI\") for v in v_list]"
   ]
  },
  {
   "cell_type": "code",
   "execution_count": 7,
   "metadata": {},
   "outputs": [
    {
     "data": {
      "image/png": "[encoded data removed]",
      "text/plain": [
       "<Figure size 432x288 with 1 Axes>"
      ]
     },
     "metadata": {
      "needs_background": "light"
     },
     "output_type": "display_data"
    }
   ],
   "source": [
    "plt.figure()\n",
    "\n",
    "plt.plot(v_list, MB.calcf_SHM(v_list), 'k--', label='SHM (unperturbed)')\n",
    "plt.plot(v_list, f_final_list)\n",
    "\n",
    "plt.show()"
   ]
  },
  {
   "cell_type": "markdown",
   "metadata": {},
   "source": [
    "This works, but it's pretty slow. Let's calculate the maximum velocity as a function of the incoming angle $\\theta$. We want to do this in advance (rather than letting `verne.CalcF` deal with it internally) because we need this function repeatedly (every time we call `verne.CalcF` for a different `v`, we don't want to have to recalculate!).\n",
    "\n",
    "The maximum velocity at the detector corresponds to the final velocity of the DM particle which has the largest *initial* velocity. The maximum initial velocity depends on the incoming direction of the DM particle. Let's write $\\mathbf{v}_g$ as the velocity of a DM particle in the galactic rest frame, $\\mathbf{v}$ as the velocity of that same particle in the Earth's frame and $\\mathbf{v}_e$ the velocity of the Earth with respect to the Galaxy. Then:\n",
    "\n",
    "$$\n",
    "\\begin{align}\n",
    "\\mathbf{v}_g &= \\mathbf{v} - \\mathbf{v}_e\\\\\n",
    "\\Rightarrow v_g^2&= v^2 + v_e^2 - 2 \\mathbf{v}\\cdot \\mathbf{v}_e\n",
    "\\end{align}\n",
    "$$\n",
    "\n",
    "To find the maximum speed in the Earth frame, we'll set $v_g = v_\\mathrm{esc}$, the escape velocity in the Galactic rest frame:\n",
    "$$\n",
    "\\begin{align}\n",
    "v^2 - 2 \\mathbf{v}\\cdot \\mathbf{v}_e + v_e^2 - v_\\mathrm{esc}^2  = 0\n",
    "\\end{align}\n",
    "$$\n",
    "\n",
    "Based on the definitions of the angles $\\gamma$ and $\\theta$, you can show that the angle $\\alpha$ between $\\mathbf{v}$ and $\\mathbf{v}_e$ is:\n",
    "$$\\cos\\alpha = \\sin\\gamma\\,\\sin(\\pi -\\theta) + \\cos\\gamma\\,\\cos(\\pi - \\theta)$$\n",
    "*(This is actually a nice exercise, to check that you understand what these angles mean).*\n",
    "\n",
    "We finally have:\n",
    "$$\n",
    "\\begin{align}\n",
    "v^2 - 2 v\\,v_e\\cos\\alpha + (v_e^2 - v_\\mathrm{esc}^2)  = 0\n",
    "\\end{align}\n",
    "$$\n",
    "which can be solved to obtain $v$, the maximum initial velocity as a function of $\\gamma$ and $\\theta$. "
   ]
  },
  {
   "cell_type": "code",
   "execution_count": 16,
   "metadata": {},
   "outputs": [],
   "source": [
    "#Let's fix a value of gamma and calculate for a range of theta\n",
    "gamma = 0.3\n",
    "\n",
    "Nvals = 501\n",
    "thetavals = np.linspace(0, np.pi, Nvals)\n",
    "\n",
    "#Loading values from MaxwellBoltzmann module:\n",
    "v_e = np.sqrt(2.0)*MB.sigmav\n",
    "vesc = MB.vesc\n",
    "\n",
    "#Solving using quadratic formula:\n",
    "a = 1.0\n",
    "b = 2*v_e*(-np.sin(gamma)*np.sin(np.pi-thetavals) + np.cos(gamma)*np.cos(np.pi-thetavals))\n",
    "c = v_e**2 - vesc**2\n",
    "v_initial_max = (-b + np.sqrt(b**2 - 4*a*c))/(2.0*a)\n",
    "\n",
    "#Now we loop over values of theta, calculating the final velocity at the detector\n",
    "        #Calculate the maximum final speed as a function of incoming angle theta\n",
    "v_final_max = 0.0*v_initial_max\n",
    "for i in range(Nvals):\n",
    "    v_final_max[i] = verne.calcVfinal_full(v_initial_max[i], thetavals[i],  depth=100, sigma_p=1e-30, m_x=1.0, interaction=\"SI\", target=\"SUF\")    \n",
    "\n",
    "#Now generate an interpolation function for v_final(theta):\n",
    "vmax_interp2 = interp1d(thetavals, v_final_max, kind='linear', bounds_error=False, fill_value=0)"
   ]
  },
  {
   "cell_type": "code",
   "execution_count": 20,
   "metadata": {},
   "outputs": [
    {
     "name": "stdout",
     "output_type": "stream",
     "text": [
      "363.3919867453854\n"
     ]
    }
   ],
   "source": [
    "#This thing works just like any other function:\n",
    "print(vmax_interp2(0.75*np.pi))"
   ]
  },
  {
   "cell_type": "markdown",
   "metadata": {},
   "source": [
    "**WARNING:** Note here that you should make sure that the parameters you use to calculate this interpolation function (depth, mass, cross section etc) agree with the parameters you'll use to calculate the velocity distribution. Otherwise things won't be consistent.\n",
    "\n",
    "It's possible that there's a more refined way of doing all this, but for the moment, this saves the code having to store these things internally..."
   ]
  },
  {
   "cell_type": "markdown",
   "metadata": {},
   "source": [
    "Now let's try calculating things again, using this more accurate function for v_max(theta):"
   ]
  },
  {
   "cell_type": "code",
   "execution_count": 11,
   "metadata": {},
   "outputs": [
    {
     "name": "stderr",
     "output_type": "stream",
     "text": [
      "/usr/local/lib/python3.9/site-packages/scipy/integrate/odepack.py:247: ODEintWarning: Excess work done on this call (perhaps wrong Dfun type). Run with full_output = 1 to get quantitative information.\n",
      "  warnings.warn(warning_msg, ODEintWarning)\n"
     ]
    },
    {
     "name": "stdout",
     "output_type": "stream",
     "text": [
      "CPU times: user 6.13 s, sys: 348 ms, total: 6.48 s\n",
      "Wall time: 6.19 s\n"
     ]
    }
   ],
   "source": [
    "v_list = np.linspace(0, 800, 20)\n",
    "%time f_final_list = [verne.CalcF(v, gamma=0.0, depth=100, sigma_p=1e-30, m_x=1.0, target=\"SUF\", vmax_interp=vmax_interp2, interaction=\"SI\") for v in v_list]"
   ]
  },
  {
   "cell_type": "code",
   "execution_count": 10,
   "metadata": {},
   "outputs": [
    {
     "data": {
      "image/png": "[encoded data removed]",
      "text/plain": [
       "<Figure size 432x288 with 1 Axes>"
      ]
     },
     "metadata": {
      "needs_background": "light"
     },
     "output_type": "display_data"
    }
   ],
   "source": [
    "plt.figure()\n",
    "\n",
    "plt.plot(v_list, MB.calcf_SHM(v_list), 'k--', label='SHM (unperturbed)')\n",
    "plt.plot(v_list, f_final_list)\n",
    "\n",
    "plt.show()"
   ]
  },
  {
   "cell_type": "markdown",
   "metadata": {},
   "source": [
    "Great! That's now faster, because the code isn't wasting time calculating for speeds which are unphysically large!"
   ]
  },
  {
   "cell_type": "code",
   "execution_count": null,
   "metadata": {},
   "outputs": [],
   "source": []
  }
 ],
 "metadata": {
  "kernelspec": {
   "display_name": "Python 3",
   "language": "python",
   "name": "python3"
  },
  "language_info": {
   "codemirror_mode": {
    "name": "ipython",
    "version": 3
   },
   "file_extension": ".py",
   "mimetype": "text/x-python",
   "name": "python",
   "nbconvert_exporter": "python",
   "pygments_lexer": "ipython3",
   "version": "3.9.4"
  }
 },
 "nbformat": 4,
 "nbformat_minor": 4
}
