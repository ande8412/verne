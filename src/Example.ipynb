{
 "cells": [
  {
   "cell_type": "markdown",
   "metadata": {},
   "source": [
    "### Calculating velocity distributions in verne"
   ]
  },
  {
   "cell_type": "markdown",
   "metadata": {},
   "source": [
    "First, we'll load up some code that we need:"
   ]
  },
  {
   "cell_type": "code",
   "execution_count": 1,
   "metadata": {},
   "outputs": [
    {
     "name": "stdout",
     "output_type": "stream",
     "text": [
      "> verne.py: Neglecting form factors...\n"
     ]
    }
   ],
   "source": [
    "import numpy as np\n",
    "import matplotlib.pyplot as plt\n",
    "from scipy.interpolate import interp1d\n",
    "\n",
    "\n",
    "import verne\n",
    "import MaxwellBoltzmann as MB\n",
    "\n",
    "from tqdm import tqdm"
   ]
  },
  {
   "cell_type": "code",
   "execution_count": 53,
   "metadata": {},
   "outputs": [],
   "source": [
    "plt.rcParams.update({'font.size': 20})"
   ]
  },
  {
   "cell_type": "code",
   "execution_count": 2,
   "metadata": {},
   "outputs": [
    {
     "name": "stdout",
     "output_type": "stream",
     "text": [
      "> VERNE: Loading isotope data and density profiles...\n",
      "> VERNE: Calculating Form Factor corrections for m_x =  1  GeV, with SI interactions...\n"
     ]
    }
   ],
   "source": [
    "verne.loadFFcorrections(1)"
   ]
  },
  {
   "cell_type": "code",
   "execution_count": 3,
   "metadata": {},
   "outputs": [
    {
     "data": {
      "image/png": "[encoded data removed]",
      "text/plain": [
       "<Figure size 432x288 with 1 Axes>"
      ]
     },
     "metadata": {
      "needs_background": "light"
     },
     "output_type": "display_data"
    }
   ],
   "source": [
    "v_list = np.linspace(0, 850, 1000)\n",
    "plt.figure()\n",
    "\n",
    "plt.plot(v_list, MB.calcf_SHM(v_list))\n",
    "\n",
    "plt.show()"
   ]
  },
  {
   "cell_type": "code",
   "execution_count": 4,
   "metadata": {},
   "outputs": [
    {
     "name": "stderr",
     "output_type": "stream",
     "text": [
      "100%|██████████| 20000/20000 [00:00<00:00, 76448.48it/s]\n"
     ]
    }
   ],
   "source": [
    "theta = np.linspace(0, np.pi, 200*100)\n",
    "gamma = np.pi\n",
    "\n",
    "\n",
    "res = 0.0*theta\n",
    "for i, t in enumerate(tqdm(theta)):\n",
    "    res[i] = MB.calcf_integ(0, t, gamma)\n",
    "\n",
    "#%time MB.calcf_integ(200, theta, gamma)"
   ]
  },
  {
   "cell_type": "markdown",
   "metadata": {},
   "source": [
    "Now let's try to calculate the velocity distribution $f(v)$ at one specific value of $v$, let's call it $v_1$:"
   ]
  },
  {
   "cell_type": "code",
   "execution_count": 38,
   "metadata": {},
   "outputs": [],
   "source": [
    "v1 = 200 #km/s\n",
    "#f_final = verne.CalcF(v1, gamma=0.0, depth=100, sigma_p=1e-26, m_x=1.0, target=\"SUF\", vmax_interp=None, interaction=\"SI\")"
   ]
  },
  {
   "cell_type": "markdown",
   "metadata": {},
   "source": [
    "Okay, so the code won't let us use `None` :( So it turns out that `vmax_interp` needs to be some kind of function, which returns the maximum possible final speed at the detector $v_{f,\\mathrm{max}}$, as a function of $\\theta$, the incoming direction of the DM particle. What happens if we specify something very general?"
   ]
  },
  {
   "cell_type": "code",
   "execution_count": 39,
   "metadata": {},
   "outputs": [],
   "source": [
    "def vmax_interp1(theta):\n",
    "    return 800 #km/s"
   ]
  },
  {
   "cell_type": "code",
   "execution_count": 40,
   "metadata": {},
   "outputs": [
    {
     "name": "stderr",
     "output_type": "stream",
     "text": [
      "/Users/bradkav/opt/miniconda3/envs/igwn-py38/lib/python3.8/site-packages/scipy/integrate/odepack.py:247: ODEintWarning: Excess work done on this call (perhaps wrong Dfun type). Run with full_output = 1 to get quantitative information.\n",
      "  warnings.warn(warning_msg, ODEintWarning)\n"
     ]
    },
    {
     "name": "stdout",
     "output_type": "stream",
     "text": [
      "0.00025055263621470675\n"
     ]
    }
   ],
   "source": [
    "f_final = verne.CalcF(v1, gamma=0.3, depth=100, sigma_p=1e-30, m_x=1.0, target=\"SUF\", vmax_interp=vmax_interp1, interaction=\"SI\")\n",
    "print(f_final)"
   ]
  },
  {
   "cell_type": "markdown",
   "metadata": {},
   "source": [
    "Hmmm...that seems to work - let's try doing it for a range of velocities:"
   ]
  },
  {
   "cell_type": "code",
   "execution_count": 45,
   "metadata": {},
   "outputs": [
    {
     "name": "stderr",
     "output_type": "stream",
     "text": [
      "/Users/bradkav/opt/miniconda3/envs/igwn-py38/lib/python3.8/site-packages/scipy/integrate/odepack.py:247: ODEintWarning: Excess work done on this call (perhaps wrong Dfun type). Run with full_output = 1 to get quantitative information.\n",
      "  warnings.warn(warning_msg, ODEintWarning)\n"
     ]
    },
    {
     "name": "stdout",
     "output_type": "stream",
     "text": [
      "CPU times: user 2min 49s, sys: 2.89 s, total: 2min 52s\n",
      "Wall time: 2min 54s\n"
     ]
    }
   ],
   "source": [
    "#v_list = np.linspace(0, 800, 100)\n",
    "v_list = np.geomspace(1e-3, 800, 100)\n",
    "%time f_final_list = [verne.CalcF(v, gamma=0.0, depth=1400, sigma_p=1e-30, m_x=1.0, target=\"full\", vmax_interp=vmax_interp1, interaction=\"SI\") for v in v_list]"
   ]
  },
  {
   "cell_type": "code",
   "execution_count": 52,
   "metadata": {},
   "outputs": [
    {
     "name": "stdout",
     "output_type": "stream",
     "text": [
      "0.05425259202203009\n"
     ]
    }
   ],
   "source": [
    "print(np.trapz(f_final_list, v_list))"
   ]
  },
  {
   "cell_type": "code",
   "execution_count": 56,
   "metadata": {},
   "outputs": [
    {
     "data": {
      "image/png": "[encoded data removed]",
      "text/plain": [
       "<Figure size 432x288 with 1 Axes>"
      ]
     },
     "metadata": {
      "needs_background": "light"
     },
     "output_type": "display_data"
    }
   ],
   "source": [
    "plt.figure()\n",
    "\n",
    "plt.plot(v_list, MB.calcf_SHM(v_list), 'k--', label='SHM (unperturbed)')\n",
    "plt.semilogy(v_list, f_final_list)\n",
    "\n",
    "plt.xlabel('$v$ [km/s]')\n",
    "plt.ylabel('$f(v)$ [(km/s)$^{-1}$]')\n",
    "\n",
    "plt.ylim(1e-8, 1e2)\n",
    "plt.show()"
   ]
  },
  {
   "cell_type": "markdown",
   "metadata": {},
   "source": [
    "This works, but it's pretty slow. Let's calculate the maximum velocity as a function of the incoming angle $\\theta$. We want to do this in advance (rather than letting `verne.CalcF` deal with it internally) because we need this function repeatedly (every time we call `verne.CalcF` for a different `v`, we don't want to have to recalculate!).\n",
    "\n",
    "The maximum velocity at the detector corresponds to the final velocity of the DM particle which has the largest *initial* velocity. The maximum initial velocity depends on the incoming direction of the DM particle. Let's write $\\mathbf{v}_g$ as the velocity of a DM particle in the galactic rest frame, $\\mathbf{v}$ as the velocity of that same particle in the Earth's frame and $\\mathbf{v}_e$ the velocity of the Earth with respect to the Galaxy. Then:\n",
    "\n",
    "$$\n",
    "\\begin{align}\n",
    "\\mathbf{v}_g &= \\mathbf{v} - \\mathbf{v}_e\\\\\n",
    "\\Rightarrow v_g^2&= v^2 + v_e^2 - 2 \\mathbf{v}\\cdot \\mathbf{v}_e\n",
    "\\end{align}\n",
    "$$\n",
    "\n",
    "To find the maximum speed in the Earth frame, we'll set $v_g = v_\\mathrm{esc}$, the escape velocity in the Galactic rest frame:\n",
    "$$\n",
    "\\begin{align}\n",
    "v^2 - 2 \\mathbf{v}\\cdot \\mathbf{v}_e + v_e^2 - v_\\mathrm{esc}^2  = 0\n",
    "\\end{align}\n",
    "$$\n",
    "\n",
    "Based on the definitions of the angles $\\gamma$ and $\\theta$, you can show that the angle $\\alpha$ between $\\mathbf{v}$ and $\\mathbf{v}_e$ is:\n",
    "$$\\cos\\alpha = \\sin\\gamma\\,\\sin(\\pi -\\theta) + \\cos\\gamma\\,\\cos(\\pi - \\theta)$$\n",
    "*(This is actually a nice exercise, to check that you understand what these angles mean).*\n",
    "\n",
    "We finally have:\n",
    "$$\n",
    "\\begin{align}\n",
    "v^2 - 2 v\\,v_e\\cos\\alpha + (v_e^2 - v_\\mathrm{esc}^2)  = 0\n",
    "\\end{align}\n",
    "$$\n",
    "which can be solved to obtain $v$, the maximum initial velocity as a function of $\\gamma$ and $\\theta$. "
   ]
  },
  {
   "cell_type": "code",
   "execution_count": 29,
   "metadata": {},
   "outputs": [],
   "source": [
    "#Let's fix a value of gamma and calculate for a range of theta\n",
    "#gamma = np.pi*126/180.0\n",
    "#gamma = np.pi*(1 - 0.0*1e-2)\n",
    "gamma = np.pi*(1 - 1.0*1e-3)\n",
    "#sig0 = 0.0\n",
    "sig0 = 1e-30\n",
    "\n",
    "Nvals = 501\n",
    "thetavals = np.linspace(0, np.pi, Nvals)\n",
    "\n",
    "#Loading values from MaxwellBoltzmann module:\n",
    "v_e = np.sqrt(2.0)*MB.sigmav\n",
    "vesc = MB.vesc\n",
    "\n",
    "#Solving using quadratic formula:\n",
    "a = 1.0\n",
    "b = 2*v_e*(-np.sin(gamma)*np.sin(np.pi-thetavals) + np.cos(gamma)*np.cos(np.pi-thetavals))\n",
    "c = v_e**2 - vesc**2\n",
    "v_initial_max = (-b + np.sqrt(b**2 - 4*a*c))/(2.0*a)\n",
    "\n",
    "#Now we loop over values of theta, calculating the final velocity at the detector\n",
    "        #Calculate the maximum final speed as a function of incoming angle theta\n",
    "v_final_max = 0.0*v_initial_max\n",
    "for i in range(Nvals):\n",
    "    v_final_max[i] = verne.calcVfinal_full(v_initial_max[i], thetavals[i],  depth=1400, sigma_p=sig0, m_x=0.5, interaction=\"SI\", target=\"full\")    \n",
    "\n",
    "#Now generate an interpolation function for v_final(theta):\n",
    "vmax_interp2 = interp1d(thetavals, 1.05*v_final_max, kind='linear', bounds_error=False, fill_value=0)"
   ]
  },
  {
   "cell_type": "code",
   "execution_count": 30,
   "metadata": {},
   "outputs": [
    {
     "data": {
      "image/png": "[encoded data removed]",
      "text/plain": [
       "<Figure size 432x288 with 1 Axes>"
      ]
     },
     "metadata": {
      "needs_background": "light"
     },
     "output_type": "display_data"
    }
   ],
   "source": [
    "plt.figure()\n",
    "\n",
    "plt.plot(thetavals, v_final_max)\n",
    "\n",
    "plt.show()"
   ]
  },
  {
   "cell_type": "code",
   "execution_count": 31,
   "metadata": {},
   "outputs": [
    {
     "name": "stdout",
     "output_type": "stream",
     "text": [
      "453.36970189893674\n"
     ]
    }
   ],
   "source": [
    "#This thing works just like any other function:\n",
    "print(vmax_interp2(0.75*np.pi))"
   ]
  },
  {
   "cell_type": "markdown",
   "metadata": {},
   "source": [
    "**WARNING:** Note here that you should make sure that the parameters you use to calculate this interpolation function (depth, mass, cross section etc) agree with the parameters you'll use to calculate the velocity distribution. Otherwise things won't be consistent. This means you have to recalculate this interpolation function whenever you change e.g. $\\gamma$.\n",
    "\n",
    "It's possible that there's a more refined way of doing all this, but for the moment, this saves the code having to store these things internally..."
   ]
  },
  {
   "cell_type": "markdown",
   "metadata": {},
   "source": [
    "Now let's try calculating things again, using this more accurate function for v_max(theta):"
   ]
  },
  {
   "cell_type": "code",
   "execution_count": 32,
   "metadata": {},
   "outputs": [],
   "source": [
    "v_list_i = np.linspace(0, 800, 50)\n",
    "\n",
    "Nv1 = 200\n",
    "Nv2 = 300\n",
    "Nv3 = 480\n",
    "\n",
    "v_th = 20.0\n",
    "vmax = np.max(v_final_max)\n",
    "v_list = np.logspace(np.log10(v_th), np.log10(0.25*vmax), Nv1)    #20                             \n",
    "v_list = np.append(v_list, np.linspace(0.15*vmax, 0.6*vmax*1.05, Nv2)) #40 \n",
    "v_list = np.append(v_list, np.linspace(0.61*vmax, 0.999*vmax*1.05, Nv3))\n",
    "v_list = np.append(v_list, 0.99*v_th)\n",
    "v_list = np.sort(v_list)"
   ]
  },
  {
   "cell_type": "code",
   "execution_count": 35,
   "metadata": {},
   "outputs": [
    {
     "name": "stderr",
     "output_type": "stream",
     "text": [
      "100%|██████████| 981/981 [00:44<00:00, 22.07it/s]\n"
     ]
    }
   ],
   "source": [
    "f_final_SI_list = 0.0*v_list\n",
    "#print(v_list)\n",
    "for i in tqdm(range(len(v_list))):\n",
    "    v = v_list[i]\n",
    "    f_final_SI_list[i] = verne.CalcF(v, gamma=gamma, depth=100, sigma_p=sig0, m_x=1.0, target=\"full\", vmax_interp=vmax_interp2, interaction=\"SI\")\n",
    "    #print(f_final_SI_list[i])\n",
    "#%time f_final_SI_list = [verne.CalcF(v, gamma=gamma, depth=1400, sigma_p=300e-36, m_x=0.5, target=\"full\", vmax_interp=vmax_interp2, interaction=\"SI\") for v in v_list]"
   ]
  },
  {
   "cell_type": "code",
   "execution_count": 36,
   "metadata": {},
   "outputs": [
    {
     "data": {
      "image/png": "[encoded data removed]",
      "text/plain": [
       "<Figure size 432x288 with 1 Axes>"
      ]
     },
     "metadata": {
      "needs_background": "light"
     },
     "output_type": "display_data"
    }
   ],
   "source": [
    "plt.figure()\n",
    "\n",
    "plt.plot(v_list_i, MB.calcf_SHM(v_list_i), 'k--', label='SHM (unperturbed)')\n",
    "#plt.plot(v_list, f_final_list, 'b-')\n",
    "plt.plot(v_list, f_final_SI_list, 'r-')\n",
    "\n",
    "plt.xlabel(r\"$v_f$ [km/s]\")\n",
    "plt.ylabel(r\"$f(v_f)$ [km/s]\")\n",
    "\n",
    "plt.title(\"Spin-independent DM\")\n",
    "\n",
    "\n",
    "plt.ylim(1e-5, 1e-2)\n",
    "plt.show()"
   ]
  },
  {
   "cell_type": "code",
   "execution_count": 151,
   "metadata": {},
   "outputs": [],
   "source": [
    "#v_test = 1.0*np.array(v_list)\n",
    "#f_test = 1.0*np.array(f_final_SI_list)"
   ]
  },
  {
   "cell_type": "code",
   "execution_count": 152,
   "metadata": {},
   "outputs": [
    {
     "data": {
      "image/png": "[encoded data removed]",
      "text/plain": [
       "<Figure size 504x360 with 1 Axes>"
      ]
     },
     "metadata": {
      "needs_background": "light"
     },
     "output_type": "display_data"
    }
   ],
   "source": [
    "plt.figure(figsize=(7,5))\n",
    "\n",
    "plt.semilogy(v_list_i, MB.calcf_SHM(v_list_i), 'k--', label='SHM (unperturbed)')\n",
    "plt.semilogy(v_test, f_test, alpha = 1, marker=\"+\")\n",
    "#plt.semilogy(v_test2, f_test2, alpha = 0.5, marker=\"+\")\n",
    "plt.semilogy(v_list, f_final_SI_list, alpha = 0.5, marker=\"+\")\n",
    "    \n",
    "plt.xlim(700, 800)\n",
    "plt.ylim(1e-6, 1e-3)\n",
    "\n",
    "plt.show()"
   ]
  },
  {
   "cell_type": "markdown",
   "metadata": {},
   "source": [
    "Great! That's now faster, because the code isn't wasting time calculating for speeds which are unphysically large!"
   ]
  },
  {
   "cell_type": "markdown",
   "metadata": {},
   "source": [
    "## Millicharged DM\n",
    "\n",
    "See Sec. 3 of https://arxiv.org/abs/1804.03073 for more details. There, we see that the total cross section for Millicharged DM scattering of a nucleus $(A, Z)$ is given by:\n",
    "\n",
    "$$ \\sigma_{A}(v)=\\frac{4 \\pi Z_{A}^{2} \\epsilon^{2} \\alpha^{2}}{v^{2}}\\left(\\frac{1}{m_{e}^{2} \\alpha^{2}}-\\frac{1}{4 \\mu_{A}^{2} v^{2}}\\right) $$\n",
    "\n",
    "This equation is only valid for $v > v_\\mathrm{screen} = \\alpha m_e/(2\\mu_{\\chi A})$. Below this speed, the DM particles can only exchange a small amount of momentum with the nucleus. This means that they do not see the internal structure of the atom (with a point-charge nucleus), but rather they see the whole atom coherently, as a neutral object. Expressed another way, the cloud of electrons 'screen' the charge of the nucleus for low momentum-transfer (or low speeds). The cross section therefore drops to zero as $v < v_\\mathrm{screen}$.\n",
    "\n",
    "Note here that we are neglecting Millicharged DM scattering off electrons (which may be important in some cases - see e.g. https://arxiv.org/abs/1905.06348). \n",
    "\n",
    "Let's investigate the stopping of a 5 GeV millicharged particle:"
   ]
  },
  {
   "cell_type": "code",
   "execution_count": 7,
   "metadata": {},
   "outputs": [],
   "source": [
    "m_x = 5.0"
   ]
  },
  {
   "cell_type": "code",
   "execution_count": 8,
   "metadata": {},
   "outputs": [
    {
     "name": "stdout",
     "output_type": "stream",
     "text": [
      ">VERNE: Calculating Form Factor corrections for m_x =  5.0  GeV, with millicharge interactions...\n"
     ]
    }
   ],
   "source": [
    "verne.loadFFcorrections(m_x, interaction='millicharge')"
   ]
  },
  {
   "cell_type": "code",
   "execution_count": 9,
   "metadata": {},
   "outputs": [],
   "source": [
    "vi_list = np.linspace(0, 1000)\n",
    "vf_list = 0.0*vi_list\n",
    "\n",
    "for i, vi in enumerate(vi_list):\n",
    "    vf_list[i] = verne.calcVfinal_full(vi, theta=np.pi/2, depth=0, sigma_p=1e-30, m_x=m_x, interaction=\"millicharge\", target=\"surface\")  "
   ]
  },
  {
   "cell_type": "code",
   "execution_count": 10,
   "metadata": {},
   "outputs": [
    {
     "data": {
      "image/png": "[encoded data removed]",
      "text/plain": [
       "<Figure size 432x288 with 1 Axes>"
      ]
     },
     "metadata": {
      "needs_background": "light"
     },
     "output_type": "display_data"
    }
   ],
   "source": [
    "plt.figure()\n",
    "\n",
    "#Let's calculate the screening velocity. In fact, each nucleus has a different screening velocity...\n",
    "m_O = 0.93*16 #Mass in GeV of an Oxygen nucleus\n",
    "mu_XO = m_O*m_x/(m_O + m_x)\n",
    "v_screen_O = (3e5)*verne.alpha*verne.m_e/(2*mu_XO)\n",
    "\n",
    "m_Fe = 0.93*56 #Mass in GeV of an Iron nucleus\n",
    "mu_XFe = m_Fe*m_x/(m_Fe + m_x)\n",
    "v_screen_Fe = (3e5)*verne.alpha*verne.m_e/(2*mu_XFe)\n",
    "#^Factor of 3e5 converts from dimensionless units to km/s (because the speed of light is c = 3e5 km/s)\n",
    "\n",
    "plt.axhline(v_screen_O, linestyle=':', color='green')\n",
    "plt.axvline(v_screen_O, linestyle=':', color='green')\n",
    "\n",
    "plt.axhline(v_screen_Fe, linestyle=':', color='orange')\n",
    "plt.axvline(v_screen_Fe, linestyle=':', color='orange')\n",
    "\n",
    "plt.plot(vi_list, vi_list, color='k', linestyle='--')\n",
    "plt.plot(vi_list, vf_list)\n",
    "\n",
    "plt.xlabel(r'$v_i$ [km/s]')\n",
    "plt.ylabel(r'$v_f$ [km/s]')\n",
    "\n",
    "plt.title(\"Millicharged DM\")\n",
    "\n",
    "plt.show()"
   ]
  },
  {
   "cell_type": "markdown",
   "metadata": {},
   "source": [
    "Q: Looking at the cross sections for milli-charged DM scattering with nuclei, why does this curve have this shape?\n",
    "\n",
    "Anyway, let's now look at a velocity distribution:"
   ]
  },
  {
   "cell_type": "code",
   "execution_count": 18,
   "metadata": {},
   "outputs": [],
   "source": [
    "#Let's fix a value of gamma and calculate for a range of theta\n",
    "#gamma = 0.0\n",
    "gamma = (168/180)*np.pi\n",
    "\n",
    "Nvals = 501\n",
    "thetavals = np.linspace(0, np.pi, Nvals)\n",
    "\n",
    "#Loading values from MaxwellBoltzmann module:\n",
    "v_e = np.sqrt(2.0)*MB.sigmav\n",
    "vesc = MB.vesc\n",
    "\n",
    "#Solving using quadratic formula:\n",
    "a = 1.0\n",
    "b = 2*v_e*(-np.sin(gamma)*np.sin(np.pi-thetavals) + np.cos(gamma)*np.cos(np.pi-thetavals))\n",
    "c = v_e**2 - vesc**2\n",
    "v_initial_max = (-b + np.sqrt(b**2 - 4*a*c))/(2.0*a)\n",
    "\n",
    "#Now we loop over values of theta, calculating the final velocity at the detector\n",
    "        #Calculate the maximum final speed as a function of incoming angle theta\n",
    "v_final_max = 0.0*v_initial_max\n",
    "for i in range(Nvals):\n",
    "    v_final_max[i] = verne.calcVfinal_full(v_initial_max[i], thetavals[i],  depth=10.6, sigma_p=1e-28, m_x=m_x, interaction=\"millicharge\", target=\"full\")    \n",
    "\n",
    "#Now generate an interpolation function for v_final(theta):\n",
    "vmax_interp2 = interp1d(thetavals, v_final_max, kind='linear', bounds_error=False, fill_value=0)"
   ]
  },
  {
   "cell_type": "code",
   "execution_count": 19,
   "metadata": {},
   "outputs": [
    {
     "name": "stdout",
     "output_type": "stream",
     "text": [
      "CPU times: user 1min 19s, sys: 1.05 s, total: 1min 20s\n",
      "Wall time: 1min 20s\n"
     ]
    }
   ],
   "source": [
    "v_list = np.linspace(0, 800, 100)\n",
    "%time f_final_MC_list = [verne.CalcF(v, gamma=gamma, depth=10.6, sigma_p=1e-28, m_x=m_x, target=\"full\", vmax_interp=vmax_interp2, interaction=\"millicharge\") for v in v_list]"
   ]
  },
  {
   "cell_type": "code",
   "execution_count": 20,
   "metadata": {},
   "outputs": [
    {
     "data": {
      "image/png": "[encoded data removed]",
      "text/plain": [
       "<Figure size 432x288 with 1 Axes>"
      ]
     },
     "metadata": {
      "needs_background": "light"
     },
     "output_type": "display_data"
    }
   ],
   "source": [
    "plt.figure()\n",
    "\n",
    "plt.axvline(v_screen_O, linestyle=':', color='green')\n",
    "plt.axvline(v_screen_Fe, linestyle=':', color='orange')\n",
    "\n",
    "plt.semilogy(v_list, MB.calcf_SHM(v_list), 'k--', label='SHM (unperturbed)')\n",
    "#plt.plot(v_list, f_final_list, 'b-')\n",
    "plt.plot(v_list, f_final_MC_list, 'b-')\n",
    "\n",
    "plt.xlabel(r\"$v_f$ [km/s]\")\n",
    "plt.ylabel(r\"$f(v_f)$ [km/s]\")\n",
    "\n",
    "plt.title(\"Millicharged DM\")\n",
    "\n",
    "plt.ylim(1e-5, 1e-2)\n",
    "plt.show()"
   ]
  },
  {
   "cell_type": "markdown",
   "metadata": {},
   "source": [
    "Note that the distribution function is now not normalised to 1. Where did all the extra particles go? They didn't go anywhere, but a lot of particles will have been slowed down until they reach the screening velocity (or rather, the smallest screening velocity of all the nuclei in the Earth). At this point, the cross section for interaction drops to zero, so they don't lose any more velocity. Another way of expressing this is that $\\mathrm{d}v_i/\\mathrm{d}v_f \\rightarrow \\infty$ at $v_\\mathrm{screen}$, meaning that our formalism breaks down. \n",
    "\n",
    "Generally, $v_\\mathrm{screen}$ may be small enough that it doesn't affect the recoil rate (because it may be below the velocity required kinematically for a detectable recoil). So we may not have to worry about it. But the alternative is to add in - 'by hand' - a population of DM particles with velocity $v = v_\\mathrm{screen}$, such that the normalisation of the speed distribution is 1 again."
   ]
  },
  {
   "cell_type": "markdown",
   "metadata": {},
   "source": [
    "------------\n",
    "**A note on the 'cross-section' for millicharged DM:**\n",
    "\n",
    "As can be seen above, the cross section for millicharged DM is velocity-dependent, so it's hard to define a 'total cross section' in the same way as for spin-independent DM. However, we can define a 'reference cross-section' $\\sigma_\\mathrm{ref}$, evaluated as the DM-proton cross-section at some (arbitrary) reference value of $v_\\mathrm{ref} = \\sqrt{2} m_e \\alpha/(2\\mu_{\\chi p})$:\n",
    "\n",
    "$$\\sigma_\\mathrm{ref} = \\frac{4 \\pi \\epsilon^2 \\mu_{\\chi p}^2}{m_e^4 \\alpha^2}$$\n",
    "\n",
    "This is the cross-section that `verne` accepts as input for calculating the stopping effect for millicharged DM. It should be straight-forward to convert between $\\epsilon$ and $\\sigma_\\mathrm{ref}$ if required."
   ]
  },
  {
   "cell_type": "code",
   "execution_count": null,
   "metadata": {},
   "outputs": [],
   "source": []
  }
 ],
 "metadata": {
  "kernelspec": {
   "display_name": "igwn-py38",
   "language": "python",
   "name": "igwn-py38"
  },
  "language_info": {
   "codemirror_mode": {
    "name": "ipython",
    "version": 3
   },
   "file_extension": ".py",
   "mimetype": "text/x-python",
   "name": "python",
   "nbconvert_exporter": "python",
   "pygments_lexer": "ipython3",
   "version": "3.8.6"
  }
 },
 "nbformat": 4,
 "nbformat_minor": 4
}
